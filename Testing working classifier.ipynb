{
 "cells": [
  {
   "cell_type": "code",
   "execution_count": 2,
   "metadata": {},
   "outputs": [
    {
     "name": "stdout",
     "output_type": "stream",
     "text": [
      "83.53\n",
      "100.00\n",
      "100.00\n",
      "83.53\n",
      "90.59\n",
      "Finally finished!\n",
      "5\n"
     ]
    }
   ],
   "source": [
    "#working version of the classifier for testing where i split the dataset with a fraction\n",
    "import numpy as np\n",
    "import matplotlib.pyplot as plt\n",
    "from matplotlib import style\n",
    "style.use(\"ggplot\")\n",
    "from sklearn import svm\n",
    "from sklearn.metrics import accuracy_score\n",
    "from sklearn.model_selection import train_test_split\n",
    "\n",
    "\n",
    "X1 = np.array([\n",
    "              [1,2,-1],[2,3,-1],[3,4,-1],[4,7,-1],[7,8,-1],[8,9,-1],[9,10,-1],[10,1,1],\n",
    "              [1,3,-1],[2,4,-1],[3,7,-1],[4,8,-1],[7,9,-1],[8,10,-1],[9,1,1],[10,2,1],\n",
    "              [1,4,-1],[2,7,-1],[3,8,-1],[4,9,-1],[7,10,-1],[8,1,1],[9,2,1],[10,3,1],\n",
    "              \n",
    "              [5,4,1],[5,7,-1],[5,8,-1],[5,9,-1],[5,10,-1],[5,1,1],[5,2,1],[5,3,1],\n",
    "              [6,4,1],[6,7,-1],[6,8,-1],[6,9,-1],[6,10,-1],[6,1,1],[6,2,1],[6,3,1],\n",
    "              [5,6,-1], [6,5,1],    \n",
    "              \n",
    "              [1,7,-1],[2,8,-1],[3,9,-1],[4,10,-1],[7,1,1],[8,2,1],[9,3,1],[10,4,1],\n",
    "              [1,8,-1],[2,9,-1],[3,10,-1],[4,1,1],[7,2,1],[8,3,1],[9,4,1],[10,7,1],\n",
    "              [1,9,-1],[2,10,-1],[3,1,1],[4,2,1],[7,3,1],[8,4,1],[9,7,1],[10,8,1],\n",
    "              [1,10,-1],[2,1,1],[3,2,1],[4,3,1],[7,4,1],[8,7,1],[9,8,1],[10,9,1],\n",
    "              [1,5,-1],[2,5,-1],[3,5,-1],[4,5,-1],[7,5,1],[8,5,1],[9,5,1],[10,5,1],\n",
    "              [1,6,-1],[2,6,-1],[3,6,-1],[4,6,-1],[7,6,1],[8,6,1],[9,6,1],[10,6,1]\n",
    "             ])\n",
    "\n",
    "X1_labels = np.array([-1, -1, -1, -1, -1, -1, -1,  1, -1, -1, -1, -1 ,-1, -1,  1, 1, -1, -1, -1, -1, -1,  1,  1,  1,\n",
    "  1, -1, -1, -1, -1,  1,  1,  1,  1, -1, -1, -1, -1,  1,  1,  1, -1,  1, -1, -1,-1, -1,  1,  1,\n",
    "  1,  1, -1, -1, -1,  1,  1,  1,  1,  1, -1, -1,  1,  1,  1,  1,  1,  1, -1,  1, 1,  1,  1,  1,\n",
    "  1,  1, -1, -1, -1, -1,  1,  1,  1,  1, -1, -1, -1, -1,  1,  1,  1,  1])\n",
    "test = np.array([\n",
    "              [1,2],[2,3],[3,4],[4,7],[7,8],[8,9],[9,10],[10,1],\n",
    "              [1,3],[2,4],[3,7],[4,8],[7,9],[8,10],[9,1],[10,2],\n",
    "              [1,4],[2,7],[3,8],[4,9],[7,10],[8,1],[9,2],[10,3],\n",
    "              \n",
    "              [5,4],[5,7],[5,8],[5,9],[5,10],[5,1],[5,2],[5,3],\n",
    "              [6,4],[6,7],[6,8],[6,9],[6,10],[6,1],[6,2],[6,3],\n",
    "              [5,6],[6,5],    \n",
    "              \n",
    "              [1,7],[2,8],[3,9],[4,10],[7,1],[8,2],[9,3],[10,4],\n",
    "              [1,8],[2,9],[3,10],[4,1],[7,2],[8,3],[9,4],[10,7],\n",
    "              [1,9],[2,10],[3,1],[4,2],[7,3],[8,4],[9,7],[10,8],\n",
    "              [1,10],[2,1],[3,2],[4,3],[7,4],[8,7],[9,8],[10,9],\n",
    "              [1,5],[2,5],[3,5],[4,5],[7,5],[8,5],[9,5],[10,5],\n",
    "              [1,6],[2,6],[3,6],[4,6],[7,6],[8,6],[9,6],[10,6]\n",
    "             ])\n",
    "\n",
    "X = np.array([\n",
    "              [1,2,-1],[10,1,1],[4,10,-1] , [2,2,-1]\n",
    "              \n",
    "             ])\n",
    "\n",
    "for x in range(5):\n",
    "\n",
    "#Select data points to divide into a training and testing set.\n",
    "    test_train_ratio = 0.9\n",
    "    testing_indices = np.random.choice(np.arange(test.shape[0]) ,85 , replace=False)\n",
    "    training_indices = np.delete(np.arange(test.shape[0]), testing_indices)\n",
    "    test_data = test[testing_indices, :] \n",
    "    test_labels = X1_labels[testing_indices] \n",
    "    train_data = test[training_indices, :] \n",
    "    train_labels = X1_labels[training_indices] \n",
    "\n",
    "    #Train the classifier \n",
    "    model = svm.SVC(kernel='linear', C=100).fit(train_data, train_labels)\n",
    "    prediction2 = model.predict(test_data)\n",
    "\n",
    "    # Calculate the percentage accuracy rate on test set\n",
    "    accuracy = np.sum(np.equal(test_labels, prediction2)) / test_labels.shape[0] * 100\n",
    "    print('{0:.2f}'.format(accuracy))\n",
    "   # print('Percentage accuracy on testing set is: {0:.2f}%'.format(accuracy))\n",
    "else:\n",
    "  print(\"Finally finished!\")\n",
    "print(len(train_data))"
   ]
  },
  {
   "cell_type": "code",
   "execution_count": null,
   "metadata": {},
   "outputs": [],
   "source": []
  },
  {
   "cell_type": "code",
   "execution_count": null,
   "metadata": {},
   "outputs": [],
   "source": []
  },
  {
   "cell_type": "code",
   "execution_count": null,
   "metadata": {},
   "outputs": [],
   "source": []
  },
  {
   "cell_type": "code",
   "execution_count": null,
   "metadata": {},
   "outputs": [],
   "source": []
  }
 ],
 "metadata": {
  "kernelspec": {
   "display_name": "Python 3",
   "language": "python",
   "name": "python3"
  },
  "language_info": {
   "codemirror_mode": {
    "name": "ipython",
    "version": 3
   },
   "file_extension": ".py",
   "mimetype": "text/x-python",
   "name": "python",
   "nbconvert_exporter": "python",
   "pygments_lexer": "ipython3",
   "version": "3.7.6"
  }
 },
 "nbformat": 4,
 "nbformat_minor": 4
}
